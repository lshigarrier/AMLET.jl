{
 "cells": [
  {
   "cell_type": "code",
   "execution_count": 119,
   "metadata": {},
   "outputs": [
    {
     "data": {
      "text/plain": [
       "4-element Array{Rational{Int64},1}:\n",
       "   3//1\n",
       " -10//1\n",
       "   0//1\n",
       "   0//1"
      ]
     },
     "execution_count": 119,
     "metadata": {},
     "output_type": "execute_result"
    }
   ],
   "source": [
    "A = 1//1*[1 2; -8 -5; -1 0; 0 -1]\n",
    "b = 1//1*[3, -10, 0, 0]"
   ]
  },
  {
   "cell_type": "code",
   "execution_count": 120,
   "metadata": {},
   "outputs": [
    {
     "data": {
      "text/plain": [
       "#9 (generic function with 1 method)"
      ]
     },
     "execution_count": 120,
     "metadata": {},
     "output_type": "execute_result"
    }
   ],
   "source": [
    "∇f = x -> 2*x -[4, 4]"
   ]
  },
  {
   "cell_type": "code",
   "execution_count": 121,
   "metadata": {},
   "outputs": [],
   "source": [
    "using JuMP"
   ]
  },
  {
   "cell_type": "code",
   "execution_count": 122,
   "metadata": {},
   "outputs": [],
   "source": [
    "using Clp"
   ]
  },
  {
   "cell_type": "code",
   "execution_count": 172,
   "metadata": {},
   "outputs": [
    {
     "data": {
      "text/plain": [
       "optimize_α (generic function with 1 method)"
      ]
     },
     "execution_count": 172,
     "metadata": {},
     "output_type": "execute_result"
    }
   ],
   "source": [
    "function optimize_direction(X)\n",
    "    \n",
    "    m = Model(solver = ClpSolver()) \n",
    "    @variable(m,  d0)\n",
    "    @variable(m,  d1)\n",
    "    \n",
    "    @constraint(m, -1 <= d0)\n",
    "    @constraint(m, d0 <= 1)\n",
    "    \n",
    "    @constraint(m, -1 <= d1)\n",
    "    @constraint(m, d1 <= 1)\n",
    "        \n",
    "    active = A*X .< b\n",
    "    println(\"AX = \", A*X)\n",
    "    for i in 1:4\n",
    "        if ! active[i]\n",
    "            println(i, \" active\")\n",
    "            @constraint(m, A[i,1]*d0 + A[i,2]'*d1 <= 0)\n",
    "        else\n",
    "            println(i, \" free\")\n",
    "            println((A*X)[i] , \" <= \", b[i] )\n",
    "        end\n",
    "    end\n",
    "            \n",
    "    grad = ∇f(X)\n",
    "    println(\"grad = \", grad)\n",
    "    @objective(m, Min, grad[1]*d0 + grad[2]'*d1)\n",
    "    solve(m)\n",
    "    return m, [getvalue(d0), getvalue(d1)]\n",
    "end\n",
    "\n",
    "function optimize_α(X, d)\n",
    "    x, y = X\n",
    "    println(\"AX <= b\", A*X .<= b)\n",
    "    d0, d1 = d\n",
    "    α = (-x*d0+2*d0-y*d1+2*d1)//(d0*d0+d1*d1)\n",
    "    println(\"α_f = \", α)\n",
    "    right = b-A*X\n",
    "    mx = 100000000//1*ones(Int64, 4)\n",
    "    for i in 1:length(mx)\n",
    "        if b[i] - (A*X)[i]!= 0\n",
    "            mx[i] =  (b[i] - A[i,:]'*X)/(A[i,:]'*d)\n",
    "        end\n",
    "        \n",
    "        if 0 <= mx[i] < α \n",
    "            α = mx[i]\n",
    "        end\n",
    "    end\n",
    "    println(\"mx = \",mx)\n",
    "    return α\n",
    "            \n",
    "end"
   ]
  },
  {
   "cell_type": "code",
   "execution_count": 173,
   "metadata": {},
   "outputs": [
    {
     "name": "stdout",
     "output_type": "stream",
     "text": [
      "X0 = Rational{Int64}[3//2, 1//2]\n",
      "AX = Rational{Int64}[5//2, -29//2, -3//2, -1//2]\n",
      "1 free\n",
      "5//2 <= 3//1\n",
      "2 free\n",
      "-29//2 <= -10//1\n",
      "3 free\n",
      "-3//2 <= 0//1\n",
      "4 free\n",
      "-1//2 <= 0//1\n",
      "grad = Rational{Int64}[-1//1, -3//1]\n",
      "d1 = [1.0, 1.0]\n",
      "AX <= bBool[true, true, true, true]\n",
      "α_f = 1//1\n",
      "mx = Rational{Int64}[1//6, -9//26, -3//2, -1//2]\n",
      "α1 = 1//6\n",
      "Min -d0 - 3 d1\n",
      "Subject to\n",
      " -d0 ≤ 1\n",
      " d0 ≤ 1\n",
      " -d1 ≤ 1\n",
      " d1 ≤ 1\n",
      " d0\n",
      " d1\n",
      "\n"
     ]
    }
   ],
   "source": [
    "X0 = [3//2, 1//2]\n",
    "println(\"X0 = \", X0)\n",
    "m, d1 = optimize_direction(X0)\n",
    "println(\"d1 = \", d1)\n",
    "d1 = [1//1, 1//1]\n",
    "\n",
    "α1 = optimize_α(X0, d1)\n",
    "\n",
    "println(\"α1 = \", α1)\n",
    "X1 = X0 + α1*d1\n",
    "println(m)"
   ]
  },
  {
   "cell_type": "code",
   "execution_count": 174,
   "metadata": {},
   "outputs": [
    {
     "name": "stdout",
     "output_type": "stream",
     "text": [
      "X1 = Rational{Int64}[5//3, 2//3]\n",
      "AX = Rational{Int64}[3//1, -50//3, -5//3, -2//3]\n",
      "1 active\n",
      "2 free\n",
      "-50//3 <= -10//1\n",
      "3 free\n",
      "-5//3 <= 0//1\n",
      "4 free\n",
      "-2//3 <= 0//1\n",
      "grad = Rational{Int64}[-2//3, -8//3]\n",
      "d2 = [-1.0, 0.5]\n",
      "AX <= bBool[true, true, true, true]\n",
      "α_f = 4//15\n",
      "mx = Rational{Int64}[100000000//1, 40//33, 5//3, -4//3]\n",
      "α2 = 4//15\n",
      "Min -0.6666666666666666 d0 - 2.6666666666666665 d1\n",
      "Subject to\n",
      " -d0 ≤ 1\n",
      " d0 ≤ 1\n",
      " -d1 ≤ 1\n",
      " d1 ≤ 1\n",
      " d0 + 2 d1 ≤ 0\n",
      " d0\n",
      " d1\n",
      "\n"
     ]
    }
   ],
   "source": [
    "println(\"X1 = \", X1)\n",
    "m, d2 = optimize_direction(X1)\n",
    "println(\"d2 = \", d2)\n",
    "d2 = [-1//1, 1//2]\n",
    "α2 = optimize_α(X1, d2)\n",
    "println(\"α2 = \", α2)\n",
    "X2 = X1 + α2*d2\n",
    "\n",
    "println(m)"
   ]
  },
  {
   "cell_type": "code",
   "execution_count": 175,
   "metadata": {},
   "outputs": [
    {
     "name": "stdout",
     "output_type": "stream",
     "text": [
      "X2 = Rational{Int64}[7//5, 4//5]\n",
      "AX = Rational{Int64}[3//1, -76//5, -7//5, -4//5]\n",
      "1 active\n",
      "2 free\n",
      "-76//5 <= -10//1\n",
      "3 free\n",
      "-7//5 <= 0//1\n",
      "4 free\n",
      "-4//5 <= 0//1\n",
      "grad = Rational{Int64}[-6//5, -12//5]\n",
      "d = Rational{Int64}[-1//1, 1//2]\n",
      "AX <= bBool[true, true, true, true]\n",
      "α_f = 0//1\n",
      "mx = Rational{Int64}[100000000//1, 52//55, 7//5, -8//5]\n",
      "α3 = 0//1\n"
     ]
    },
    {
     "data": {
      "text/plain": [
       "2-element Array{Rational{Int64},1}:\n",
       " 7//5\n",
       " 4//5"
      ]
     },
     "execution_count": 175,
     "metadata": {},
     "output_type": "execute_result"
    }
   ],
   "source": [
    "println(\"X2 = \", X2)\n",
    "m, d3 = optimize_direction(X2)\n",
    "d3 = [-1//1, 1//2]\n",
    "println(\"d = \", d3)\n",
    "α3 = optimize_α(X2, d3)\n",
    "println(\"α3 = \", α3)\n",
    "X3 = X2 + α3*d3"
   ]
  },
  {
   "cell_type": "code",
   "execution_count": 178,
   "metadata": {},
   "outputs": [
    {
     "data": {
      "text/latex": [
       "$$ \\begin{alignat*}{1}\\min\\quad & -1.2 d0 - 2.4 d1\\\\\n",
       "\\text{Subject to} \\quad & -d0 \\leq 1\\\\\n",
       " & d0 \\leq 1\\\\\n",
       " & -d1 \\leq 1\\\\\n",
       " & d1 \\leq 1\\\\\n",
       " & d0 + 2 d1 \\leq 0\\\\\n",
       " & d0\\\\\n",
       " & d1\\\\\n",
       "\\end{alignat*}\n",
       " $$"
      ],
      "text/plain": [
       "Minimization problem with:\n",
       " * 5 linear constraints\n",
       " * 2 variables\n",
       "Solver is Clp"
      ]
     },
     "execution_count": 178,
     "metadata": {},
     "output_type": "execute_result"
    }
   ],
   "source": [
    "m"
   ]
  },
  {
   "cell_type": "code",
   "execution_count": 179,
   "metadata": {},
   "outputs": [
    {
     "data": {
      "text/plain": [
       "0//1"
      ]
     },
     "execution_count": 179,
     "metadata": {},
     "output_type": "execute_result"
    }
   ],
   "source": [
    "Rational{Int64}[-6//5, -12//5]'*d3"
   ]
  },
  {
   "cell_type": "markdown",
   "metadata": {},
   "source": [
    "# Numero 3"
   ]
  },
  {
   "cell_type": "code",
   "execution_count": 180,
   "metadata": {},
   "outputs": [
    {
     "data": {
      "text/plain": [
       "4×4 Array{Float64,2}:\n",
       " 1.0  0.0  0.0  0.0\n",
       " 0.4  0.0  0.6  0.0\n",
       " 0.2  0.0  0.1  0.7\n",
       " 0.0  0.0  0.0  1.0"
      ]
     },
     "execution_count": 180,
     "metadata": {},
     "output_type": "execute_result"
    }
   ],
   "source": [
    "M = [1 0 0 0; 0.4 0 0.6 0; 0.2 0 0.1 0.7; 0 0 0 1]"
   ]
  },
  {
   "cell_type": "code",
   "execution_count": 181,
   "metadata": {},
   "outputs": [],
   "source": [
    "using LinearAlgebra"
   ]
  },
  {
   "cell_type": "code",
   "execution_count": 195,
   "metadata": {},
   "outputs": [
    {
     "data": {
      "text/plain": [
       "4×4 Array{Float64,2}:\n",
       " 1.0  0.0  0.0  0.0\n",
       " 0.4  0.0  0.6  0.0\n",
       " 0.2  0.0  0.1  0.7\n",
       " 0.0  0.0  0.0  1.0"
      ]
     },
     "execution_count": 195,
     "metadata": {},
     "output_type": "execute_result"
    }
   ],
   "source": [
    "A = Array{Float64, 2}(I,4, 4)\n",
    "B = Array{Float64, 2}(I,4, 4)\n",
    "B*=M"
   ]
  },
  {
   "cell_type": "code",
   "execution_count": 210,
   "metadata": {},
   "outputs": [
    {
     "name": "stdout",
     "output_type": "stream",
     "text": [
      "$P^0$\n",
      "\\\\[begin{pmatrix}\n",
      "1.0 & 0.0 & 0.0 & 0.0 & \\\\\n",
      "0.4 & 0.0 & 0.6 & 0.0 & \\\\\n",
      "0.2 & 0.0 & 0.1 & 0.7 & \\\\\n",
      "0.0 & 0.0 & 0.0 & 1.0 & \\\\\n",
      "\\end{pmatrix}\\]$P^1$\n",
      "\\\\[begin{pmatrix}\n",
      "1.0 & 0.0 & 0.0 & 0.0 & \\\\\n",
      "0.52 & 0.0 & 0.06 & 0.42 & \\\\\n",
      "0.22 & 0.0 & 0.010000000000000002 & 0.7699999999999999 & \\\\\n",
      "0.0 & 0.0 & 0.0 & 1.0 & \\\\\n",
      "\\end{pmatrix}\\]$P^2$\n",
      "\\\\[begin{pmatrix}\n",
      "1.0 & 0.0 & 0.0 & 0.0 & \\\\\n",
      "0.532 & 0.0 & 0.006 & 0.46199999999999997 & \\\\\n",
      "0.222 & 0.0 & 0.0010000000000000002 & 0.7769999999999999 & \\\\\n",
      "0.0 & 0.0 & 0.0 & 1.0 & \\\\\n",
      "\\end{pmatrix}\\]$P^3$\n",
      "\\\\[begin{pmatrix}\n",
      "1.0 & 0.0 & 0.0 & 0.0 & \\\\\n",
      "0.5332 & 0.0 & 0.0006000000000000001 & 0.46619999999999995 & \\\\\n",
      "0.2222 & 0.0 & 0.00010000000000000003 & 0.7777 & \\\\\n",
      "0.0 & 0.0 & 0.0 & 1.0 & \\\\\n",
      "\\end{pmatrix}\\]$P^4$\n",
      "\\\\[begin{pmatrix}\n",
      "1.0 & 0.0 & 0.0 & 0.0 & \\\\\n",
      "0.53332 & 0.0 & 6.000000000000001e-5 & 0.4666199999999999 & \\\\\n",
      "0.22222 & 0.0 & 1.0000000000000004e-5 & 0.77777 & \\\\\n",
      "0.0 & 0.0 & 0.0 & 1.0 & \\\\\n",
      "\\end{pmatrix}\\]$P^5$\n",
      "\\\\[begin{pmatrix}\n",
      "1.0 & 0.0 & 0.0 & 0.0 & \\\\\n",
      "0.533332 & 0.0 & 6.000000000000001e-6 & 0.4666619999999999 & \\\\\n",
      "0.222222 & 0.0 & 1.0000000000000004e-6 & 0.7777769999999999 & \\\\\n",
      "0.0 & 0.0 & 0.0 & 1.0 & \\\\\n",
      "\\end{pmatrix}\\]$P^6$\n",
      "\\\\[begin{pmatrix}\n",
      "1.0 & 0.0 & 0.0 & 0.0 & \\\\\n",
      "0.5333332000000001 & 0.0 & 6.000000000000002e-7 & 0.4666661999999999 & \\\\\n",
      "0.2222222 & 0.0 & 1.0000000000000005e-7 & 0.7777776999999999 & \\\\\n",
      "0.0 & 0.0 & 0.0 & 1.0 & \\\\\n",
      "\\end{pmatrix}\\]$P^7$\n",
      "\\\\[begin{pmatrix}\n",
      "1.0 & 0.0 & 0.0 & 0.0 & \\\\\n",
      "0.5333333200000001 & 0.0 & 6.000000000000002e-8 & 0.4666666199999999 & \\\\\n",
      "0.22222222 & 0.0 & 1.0000000000000005e-8 & 0.7777777699999999 & \\\\\n",
      "0.0 & 0.0 & 0.0 & 1.0 & \\\\\n",
      "\\end{pmatrix}\\]$P^8$\n",
      "\\\\[begin{pmatrix}\n",
      "1.0 & 0.0 & 0.0 & 0.0 & \\\\\n",
      "0.5333333320000001 & 0.0 & 6.0000000000000024e-9 & 0.4666666619999999 & \\\\\n",
      "0.222222222 & 0.0 & 1.0000000000000005e-9 & 0.777777777 & \\\\\n",
      "0.0 & 0.0 & 0.0 & 1.0 & \\\\\n",
      "\\end{pmatrix}\\]"
     ]
    },
    {
     "data": {
      "text/plain": [
       "9"
      ]
     },
     "execution_count": 210,
     "metadata": {},
     "output_type": "execute_result"
    }
   ],
   "source": [
    "A = Array{Float64, 2}(I,4, 4)\n",
    "B = Array{Float64, 2}(I,4, 4)\n",
    "B*=M\n",
    "expr = 0\n",
    "while norm(A - B) > 1e-8\n",
    "    A[:,:] = B[:,:]\n",
    "    B *= M\n",
    "    println(\"\\$P^\", expr, \"\\$\")\n",
    "    to_tex(A)\n",
    "    expr+=1\n",
    "end\n",
    "expr"
   ]
  },
  {
   "cell_type": "code",
   "execution_count": 208,
   "metadata": {},
   "outputs": [
    {
     "data": {
      "text/plain": [
       "4×4 Array{Float64,2}:\n",
       " 1.0       0.0  0.0     0.0     \n",
       " 0.533332  0.0  6.0e-6  0.466662\n",
       " 0.222222  0.0  1.0e-6  0.777777\n",
       " 0.0       0.0  0.0     1.0     "
      ]
     },
     "execution_count": 208,
     "metadata": {},
     "output_type": "execute_result"
    }
   ],
   "source": [
    "[1.0 0.0 0.0 0.0; 0.533332 0.0 6.0e-6 0.466662; 0.222222 0.0 1.0e-6 0.777777; 0.0 0.0 0.0 1.0]"
   ]
  },
  {
   "cell_type": "code",
   "execution_count": 209,
   "metadata": {},
   "outputs": [
    {
     "data": {
      "text/plain": [
       "to_tex (generic function with 1 method)"
      ]
     },
     "execution_count": 209,
     "metadata": {},
     "output_type": "execute_result"
    }
   ],
   "source": [
    "function to_tex(m::Matrix)\n",
    "    println(\"\\\\\\\\[begin{pmatrix}\")\n",
    "    for i in 1:size(m, 1)\n",
    "        for j in 1:size(m, 2)\n",
    "            print(m[i,j], \" & \")\n",
    "        end\n",
    "        println(\"\\\\\\\\\")\n",
    "    end\n",
    "    print(\"\\\\end{pmatrix}\\\\]\")\n",
    "end"
   ]
  },
  {
   "cell_type": "code",
   "execution_count": 206,
   "metadata": {},
   "outputs": [
    {
     "name": "stdout",
     "output_type": "stream",
     "text": [
      "\\begin{pmatrix}\n",
      "1.0 & 1.0 & \\\\\n",
      "1.0 & 1.0 & \\\\\n",
      "\\end{pmatrix}"
     ]
    }
   ],
   "source": [
    "to_tex(ones(2,2))"
   ]
  },
  {
   "cell_type": "code",
   "execution_count": 213,
   "metadata": {},
   "outputs": [
    {
     "data": {
      "text/plain": [
       "4×4 Array{Float64,2}:\n",
       " 1.0       0.0  0.0  0.0     \n",
       " 0.533333  0.0  0.0  0.466667\n",
       " 0.222222  0.0  0.0  0.777778\n",
       " 0.0       0.0  0.0  1.0     "
      ]
     },
     "execution_count": 213,
     "metadata": {},
     "output_type": "execute_result"
    }
   ],
   "source": [
    "M^1000"
   ]
  },
  {
   "cell_type": "code",
   "execution_count": 217,
   "metadata": {},
   "outputs": [
    {
     "data": {
      "text/plain": [
       "4803839602528529//9007199254740992"
      ]
     },
     "execution_count": 217,
     "metadata": {},
     "output_type": "execute_result"
    }
   ],
   "source": [
    "convert(Rational, 0.53333333333333333333333333333333333333333333333)"
   ]
  },
  {
   "cell_type": "code",
   "execution_count": 226,
   "metadata": {},
   "outputs": [
    {
     "data": {
      "text/plain": [
       "0.5333333333333333"
      ]
     },
     "execution_count": 226,
     "metadata": {},
     "output_type": "execute_result"
    }
   ],
   "source": [
    "8/15"
   ]
  },
  {
   "cell_type": "code",
   "execution_count": 228,
   "metadata": {},
   "outputs": [
    {
     "data": {
      "text/plain": [
       "0.2222222222222222"
      ]
     },
     "execution_count": 228,
     "metadata": {},
     "output_type": "execute_result"
    }
   ],
   "source": [
    "2/9"
   ]
  },
  {
   "cell_type": "code",
   "execution_count": 231,
   "metadata": {},
   "outputs": [
    {
     "data": {
      "text/plain": [
       "4×4 Array{Rational{Int64},2}:\n",
       " 1//1   0//1  0//1  0//1 \n",
       " 8//15  0//1  0//1  7//15\n",
       " 2//9   0//1  0//1  7//9 \n",
       " 0//1   0//1  0//1  1//1 "
      ]
     },
     "execution_count": 231,
     "metadata": {},
     "output_type": "execute_result"
    }
   ],
   "source": [
    "O = [1 0 0 0; 8//15 0 0 7//15; 2//9 0 0 7//9; 0 0 0 1]"
   ]
  },
  {
   "cell_type": "code",
   "execution_count": 365,
   "metadata": {},
   "outputs": [
    {
     "data": {
      "text/plain": [
       "3-element Array{Rational{Int64},1}:\n",
       " 0//1\n",
       " 0//1\n",
       " 1//1"
      ]
     },
     "execution_count": 365,
     "metadata": {},
     "output_type": "execute_result"
    }
   ],
   "source": [
    "V = 1//10*[3 5 2; 0 3 7; 0 0 10]\n",
    "sol = [0,0,1//1]"
   ]
  },
  {
   "cell_type": "code",
   "execution_count": 358,
   "metadata": {},
   "outputs": [
    {
     "data": {
      "text/plain": [
       "3-element Array{Rational{Int64},1}:\n",
       " 0//1\n",
       " 0//1\n",
       " 1//1"
      ]
     },
     "execution_count": 358,
     "metadata": {},
     "output_type": "execute_result"
    }
   ],
   "source": [
    "V'*sol"
   ]
  },
  {
   "cell_type": "code",
   "execution_count": 361,
   "metadata": {},
   "outputs": [
    {
     "data": {
      "text/plain": [
       "3×3 Array{Float64,2}:\n",
       " 0.8  0.2  0.0\n",
       " 0.3  0.5  0.2\n",
       " 0.0  0.3  0.7"
      ]
     },
     "execution_count": 361,
     "metadata": {},
     "output_type": "execute_result"
    }
   ],
   "source": [
    "A = 1/10*[8 2 0;3 5 2; 0 3 7]"
   ]
  },
  {
   "cell_type": "code",
   "execution_count": 364,
   "metadata": {},
   "outputs": [
    {
     "data": {
      "text/plain": [
       "3×3 Array{Float64,2}:\n",
       " 0.473684  0.315789  0.210526\n",
       " 0.473684  0.315789  0.210526\n",
       " 0.473684  0.315789  0.210526"
      ]
     },
     "execution_count": 364,
     "metadata": {},
     "output_type": "execute_result"
    }
   ],
   "source": [
    "A^100"
   ]
  },
  {
   "cell_type": "code",
   "execution_count": null,
   "metadata": {},
   "outputs": [],
   "source": [
    "A"
   ]
  }
 ],
 "metadata": {
  "kernelspec": {
   "display_name": "Julia 1.0.0",
   "language": "julia",
   "name": "julia-1.0"
  },
  "language_info": {
   "file_extension": ".jl",
   "mimetype": "application/julia",
   "name": "julia",
   "version": "1.0.0"
  }
 },
 "nbformat": 4,
 "nbformat_minor": 2
}
